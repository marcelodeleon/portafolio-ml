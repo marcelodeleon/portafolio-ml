{
  "nbformat": 4,
  "nbformat_minor": 0,
  "metadata": {
    "colab": {
      "name": "decision_tree.ipynb",
      "provenance": [],
      "collapsed_sections": []
    },
    "kernelspec": {
      "name": "python3",
      "display_name": "Python 3"
    },
    "language_info": {
      "name": "python"
    }
  },
  "cells": [
    {
      "cell_type": "code",
      "metadata": {
        "id": "HrpUffCrW-I1"
      },
      "source": [
        "\n",
        "from sklearn.datasets import load_iris\n",
        "from sklearn.tree import DecisionTreeClassifier\n",
        "from sklearn.metrics import confusion_matrix, classification_report\n",
        "from sklearn.model_selection import train_test_split\n",
        "from sklearn.preprocessing import LabelEncoder"
      ],
      "execution_count": 4,
      "outputs": []
    },
    {
      "cell_type": "code",
      "metadata": {
        "id": "1cpbObG62E32"
      },
      "source": [
        "iris = load_iris()\n",
        "X, y = iris.data, iris.target\n",
        "\n",
        "# Separamos el dataset en 70% entrenamiento y 30% test\n",
        "train_X, test_X, train_y, test_y = train_test_split(X, y, test_size=0.3,\n",
        "random_state=0, shuffle=True)"
      ],
      "execution_count": 7,
      "outputs": []
    },
    {
      "cell_type": "code",
      "metadata": {
        "id": "O5mvr0O02S8x"
      },
      "source": [
        "clf = DecisionTreeClassifier()\n",
        "clf = clf.fit(train_X, train_y)"
      ],
      "execution_count": 8,
      "outputs": []
    },
    {
      "cell_type": "code",
      "metadata": {
        "colab": {
          "base_uri": "https://localhost:8080/"
        },
        "id": "FftgcAZf2UKQ",
        "outputId": "7060d11e-5fa0-4d0e-8d28-011a3b0ffbbb"
      },
      "source": [
        "y_pred = clf.predict(test_X)\n",
        "print(\"Predicted vs Expected\")\n",
        "print(y_pred)\n",
        "print(test_y)"
      ],
      "execution_count": 9,
      "outputs": [
        {
          "output_type": "stream",
          "name": "stdout",
          "text": [
            "Predicted vs Expected\n",
            "[2 1 0 2 0 2 0 1 1 1 2 1 1 1 1 0 1 1 0 0 2 1 0 0 2 0 0 1 1 0 2 1 0 2 2 1 0\n",
            " 2 1 1 2 0 2 0 0]\n",
            "[2 1 0 2 0 2 0 1 1 1 2 1 1 1 1 0 1 1 0 0 2 1 0 0 2 0 0 1 1 0 2 1 0 2 2 1 0\n",
            " 1 1 1 2 0 2 0 0]\n"
          ]
        }
      ]
    },
    {
      "cell_type": "code",
      "metadata": {
        "colab": {
          "base_uri": "https://localhost:8080/"
        },
        "id": "z_uvYlwt2Z-w",
        "outputId": "4a6ca19d-b93c-4c10-d9bc-55d716936dca"
      },
      "source": [
        "print(classification_report(test_y, y_pred, digits=3))"
      ],
      "execution_count": 10,
      "outputs": [
        {
          "output_type": "stream",
          "name": "stdout",
          "text": [
            "              precision    recall  f1-score   support\n",
            "\n",
            "           0      1.000     1.000     1.000        16\n",
            "           1      1.000     0.944     0.971        18\n",
            "           2      0.917     1.000     0.957        11\n",
            "\n",
            "    accuracy                          0.978        45\n",
            "   macro avg      0.972     0.981     0.976        45\n",
            "weighted avg      0.980     0.978     0.978        45\n",
            "\n"
          ]
        }
      ]
    },
    {
      "cell_type": "code",
      "metadata": {
        "colab": {
          "base_uri": "https://localhost:8080/"
        },
        "id": "eHb7n3ug2bbj",
        "outputId": "b2f0e4bd-b758-46c6-b91b-76cba70f0126"
      },
      "source": [
        "print(confusion_matrix(test_y, y_pred))"
      ],
      "execution_count": 11,
      "outputs": [
        {
          "output_type": "stream",
          "name": "stdout",
          "text": [
            "[[16  0  0]\n",
            " [ 0 17  1]\n",
            " [ 0  0 11]]\n"
          ]
        }
      ]
    }
  ]
}