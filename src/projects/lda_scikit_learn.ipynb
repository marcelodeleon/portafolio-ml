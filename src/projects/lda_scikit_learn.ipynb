{
  "nbformat": 4,
  "nbformat_minor": 0,
  "metadata": {
    "colab": {
      "name": "lda_scikit_learn.ipynb",
      "provenance": [],
      "collapsed_sections": []
    },
    "kernelspec": {
      "name": "python3",
      "display_name": "Python 3"
    },
    "language_info": {
      "name": "python"
    }
  },
  "cells": [
    {
      "cell_type": "code",
      "metadata": {
        "id": "HrpUffCrW-I1"
      },
      "source": [
        "import matplotlib\n",
        "import matplotlib.pyplot as plt\n",
        "import pandas as pd\n",
        "from sklearn.discriminant_analysis import LinearDiscriminantAnalysis\n",
        "from sklearn.linear_model import LogisticRegression\n",
        "from sklearn.metrics import confusion_matrix, classification_report\n",
        "from sklearn.model_selection import train_test_split\n",
        "from sklearn.preprocessing import LabelEncoder"
      ],
      "execution_count": null,
      "outputs": []
    },
    {
      "cell_type": "code",
      "metadata": {
        "colab": {
          "base_uri": "https://localhost:8080/"
        },
        "id": "1cpbObG62E32",
        "outputId": "77de2af0-e3fe-42eb-f7a5-b018c3a0da88"
      },
      "source": [
        "# Lee el dataset utilizando pandas.\n",
        "input_file = \"sample.csv\"\n",
        "df = pd.read_csv(input_file, header=0)\n",
        "print(df.values)"
      ],
      "execution_count": null,
      "outputs": [
        {
          "output_type": "stream",
          "name": "stdout",
          "text": [
            "[[2.7810836  2.550537   0.        ]\n",
            " [1.46548937 2.36212508 0.        ]\n",
            " [3.39656169 4.40029353 0.        ]\n",
            " [1.38807019 1.85022032 0.        ]\n",
            " [3.06407232 3.00530597 0.        ]\n",
            " [2.2810836  2.950537   0.        ]\n",
            " [1.86548937 2.86212508 0.        ]\n",
            " [3.89656169 4.00029353 0.        ]\n",
            " [1.08807019 1.15022032 0.        ]\n",
            " [3.96407232 3.00530597 0.        ]\n",
            " [7.62753121 2.75926224 1.        ]\n",
            " [5.33244125 2.08862677 1.        ]\n",
            " [6.92259672 1.77106367 1.        ]\n",
            " [8.37541865 0.52068655 1.        ]\n",
            " [7.67375647 3.50856301 1.        ]\n",
            " [6.62753121 2.99262235 1.        ]\n",
            " [6.33244125 1.08862678 1.        ]\n",
            " [5.92259672 1.88106367 1.        ]\n",
            " [8.67541865 0.30206866 1.        ]\n",
            " [7.67375647 1.50856301 1.        ]]\n"
          ]
        }
      ]
    },
    {
      "cell_type": "code",
      "metadata": {
        "colab": {
          "base_uri": "https://localhost:8080/",
          "height": 265
        },
        "id": "oMHaQznn2GsJ",
        "outputId": "41ef4936-5c4f-4ad6-ce60-82a95c7e2e7a"
      },
      "source": [
        "colors = (\"orange\", \"blue\")\n",
        "plt.scatter(df['x'], df['y'], s=300, c=df['label'],\n",
        "cmap=matplotlib.colors.ListedColormap(colors))\n",
        "plt.show()"
      ],
      "execution_count": null,
      "outputs": [
        {
          "output_type": "display_data",
          "data": {
            "image/png": "[encoded data removed]",
            "text/plain": [
              "<Figure size 432x288 with 1 Axes>"
            ]
          },
          "metadata": {
            "needs_background": "light"
          }
        }
      ]
    },
    {
      "cell_type": "code",
      "metadata": {
        "id": "a3ptWpkX2O_1"
      },
      "source": [
        "X = df[['x', 'y']].values\n",
        "y = df['label'].values"
      ],
      "execution_count": null,
      "outputs": []
    },
    {
      "cell_type": "code",
      "metadata": {
        "id": "iECbdk5j2Q8X"
      },
      "source": [
        "train_X, test_X, train_y, test_y = train_test_split(X, y, test_size=0.25,\n",
        "random_state=0, shuffle=True)"
      ],
      "execution_count": null,
      "outputs": []
    },
    {
      "cell_type": "code",
      "metadata": {
        "id": "O5mvr0O02S8x"
      },
      "source": [
        "lda = LinearDiscriminantAnalysis()\n",
        "lda = lda.fit(train_X, train_y)"
      ],
      "execution_count": null,
      "outputs": []
    },
    {
      "cell_type": "code",
      "metadata": {
        "colab": {
          "base_uri": "https://localhost:8080/"
        },
        "id": "FftgcAZf2UKQ",
        "outputId": "d731a710-cc11-4c6c-ce6e-c3fd0a2922d4"
      },
      "source": [
        "y_pred = lda.predict(test_X)\n",
        "print(\"Predicted vs Expected\")\n",
        "print(y_pred)\n",
        "print(test_y)"
      ],
      "execution_count": null,
      "outputs": [
        {
          "output_type": "stream",
          "name": "stdout",
          "text": [
            "Predicted vs Expected\n",
            "[1 0 1 0 1]\n",
            "[1 0 1 0 1]\n"
          ]
        }
      ]
    },
    {
      "cell_type": "code",
      "metadata": {
        "colab": {
          "base_uri": "https://localhost:8080/"
        },
        "id": "z_uvYlwt2Z-w",
        "outputId": "cff27a6b-2e35-444e-ff2f-367ea459446c"
      },
      "source": [
        "print(classification_report(test_y, y_pred, digits=3))"
      ],
      "execution_count": null,
      "outputs": [
        {
          "output_type": "stream",
          "name": "stdout",
          "text": [
            "              precision    recall  f1-score   support\n",
            "\n",
            "           0      1.000     1.000     1.000         2\n",
            "           1      1.000     1.000     1.000         3\n",
            "\n",
            "    accuracy                          1.000         5\n",
            "   macro avg      1.000     1.000     1.000         5\n",
            "weighted avg      1.000     1.000     1.000         5\n",
            "\n"
          ]
        }
      ]
    },
    {
      "cell_type": "code",
      "metadata": {
        "colab": {
          "base_uri": "https://localhost:8080/"
        },
        "id": "eHb7n3ug2bbj",
        "outputId": "6f7a4332-a6ce-42fd-e6df-dd357db7c839"
      },
      "source": [
        "print(confusion_matrix(test_y, y_pred))"
      ],
      "execution_count": null,
      "outputs": [
        {
          "output_type": "stream",
          "name": "stdout",
          "text": [
            "[[2 0]\n",
            " [0 3]]\n"
          ]
        }
      ]
    }
  ]
}